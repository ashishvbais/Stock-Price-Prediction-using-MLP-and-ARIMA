{
 "cells": [
  {
   "cell_type": "markdown",
   "metadata": {},
   "source": [
    "# INFO 7390 - Advances in Data Sciences and Architecture"
   ]
  },
  {
   "cell_type": "markdown",
   "metadata": {},
   "source": [
    "## Name - Ashish Bais "
   ]
  },
  {
   "cell_type": "markdown",
   "metadata": {},
   "source": [
    "## NUID - 001221790 "
   ]
  },
  {
   "cell_type": "markdown",
   "metadata": {},
   "source": [
    "# Stock Price Prediction"
   ]
  },
  {
   "cell_type": "markdown",
   "metadata": {},
   "source": [
    "### License for text in this document"
   ]
  },
  {
   "cell_type": "markdown",
   "metadata": {},
   "source": [
    "CC-BY-SA © Ashish Bais 2018, Some Rights Reserved Except where otherwise noted, this work is licensed under Creative Commons Attribution-ShareAlike 3.0. You are free:\n",
    "* to Share — to copy, distribute and transmit the work\n",
    "* to Remix — to adapt the work Under the following conditions:\n",
    "*Attribution. You must attribute the work in the manner specified by the author or licensor (but not in any way that suggests that they endorse you or your use of the work).\n",
    "* Share Alike. If you alter, transform, or build upon this work, you may distribute the resulting work only under the same, similar or a compatible license.\n",
    "* For any reuse or distribution, you must make clear to others the license terms of this work. The best way to do this is with a link to this web page.\n",
    "* Any of the above conditions can be waived if you get permission from the copyright holder.\n",
    "* Nothing in this license impairs or restricts the author's moral rights."
   ]
  },
  {
   "cell_type": "markdown",
   "metadata": {},
   "source": [
    "## Project Code - MLP"
   ]
  },
  {
   "cell_type": "code",
   "execution_count": 1,
   "metadata": {},
   "outputs": [],
   "source": [
    "import tensorflow as tf\n",
    "import numpy as np\n",
    "import pandas as pd\n",
    "from sklearn.preprocessing import MinMaxScaler\n",
    "normalize = MinMaxScaler()\n",
    "from matplotlib import pyplot as plt"
   ]
  },
  {
   "cell_type": "markdown",
   "metadata": {},
   "source": [
    "### Importing csv data and dropping date field"
   ]
  },
  {
   "cell_type": "code",
   "execution_count": 2,
   "metadata": {},
   "outputs": [
    {
     "name": "stdout",
     "output_type": "stream",
     "text": [
      "           SP500  NASDAQ.AAL  NASDAQ.AAPL  NASDAQ.ADBE  NASDAQ.ADI  \\\n",
      "0      2363.6101     42.3300     143.6800     129.6300     82.0400   \n",
      "1      2364.1001     42.3600     143.7000     130.3200     82.0800   \n",
      "2      2362.6799     42.3100     143.6901     130.2250     82.0300   \n",
      "3      2364.3101     42.3700     143.6400     130.0729     82.0000   \n",
      "4      2364.8501     42.5378     143.6600     129.8800     82.0350   \n",
      "5      2365.6201     42.5399     143.7800     130.0700     82.0400   \n",
      "6      2365.2000     42.4700     143.8640     130.1800     82.1200   \n",
      "7      2365.2900     42.4700     143.8100     130.1400     82.1900   \n",
      "8      2364.3201     42.3900     143.8150     130.1000     82.2300   \n",
      "9      2364.6399     42.3300     143.8000     130.2100     82.1650   \n",
      "10     2364.5801     42.4000     143.8900     130.1400     82.2100   \n",
      "11     2364.4800     42.2900     143.9700     130.3700     82.1500   \n",
      "12     2365.2300     42.2900     143.9199     130.4599     82.1450   \n",
      "13     2365.6599     42.3900     144.0239     130.6300     82.1600   \n",
      "14     2365.2400     42.4197     144.0500     130.6500     82.2100   \n",
      "15     2365.3201     42.4300     144.0638     130.6950     82.1500   \n",
      "16     2364.9600     42.4400     144.0200     130.5700     82.1400   \n",
      "17     2364.3999     42.4000     144.0200     130.4750     82.1143   \n",
      "18     2364.7400     42.3900     143.9700     130.3700     82.0400   \n",
      "19     2363.9399     42.4400     144.0300     130.3800     82.1500   \n",
      "20     2363.8799     42.3800     143.9800     130.2900     82.0800   \n",
      "21     2363.6001     42.3400     143.9000     130.3500     82.0800   \n",
      "22     2364.0400     42.2950     143.9100     130.4400     82.0100   \n",
      "23     2363.8301     42.2800     143.9100     130.4700     81.9800   \n",
      "24     2363.8501     42.2500     143.8600     130.4700     82.0100   \n",
      "25     2363.0300     42.2600     143.8600     130.2800     81.9500   \n",
      "26     2363.2500     42.2100     143.8935     130.2600     81.8700   \n",
      "27     2362.8701     42.2000     143.9300     130.2200     81.8500   \n",
      "28     2363.0300     42.1700     143.9500     130.1700     81.7700   \n",
      "29     2363.0601     42.1400     143.8700     130.1800     81.8400   \n",
      "...          ...         ...          ...          ...         ...   \n",
      "41236  2473.1001     44.7200     164.0700     155.0800     83.8000   \n",
      "41237  2473.7600     44.7150     164.0750     155.0700     83.8000   \n",
      "41238  2473.8201     44.7850     164.1500     155.1200     83.8050   \n",
      "41239  2473.8899     44.8000     164.1300     155.1300     83.6900   \n",
      "41240  2474.0701     44.7800     164.1400     155.1300     83.6600   \n",
      "41241  2474.1499     44.7800     164.1450     155.1100     83.7900   \n",
      "41242  2474.5000     44.7900     164.2050     155.1000     83.7500   \n",
      "41243  2474.6101     44.7800     164.2350     155.1300     83.7100   \n",
      "41244  2474.5100     44.8000     164.2900     155.1600     83.7100   \n",
      "41245  2474.4900     44.7850     164.2800     155.1600     83.6500   \n",
      "41246  2474.7800     44.7800     164.2600     155.1200     83.7200   \n",
      "41247  2474.8201     44.7800     164.2634     155.1100     83.7600   \n",
      "41248  2474.8999     44.8000     164.2400     155.0800     83.7850   \n",
      "41249  2474.5200     44.8300     164.2700     155.1300     83.8200   \n",
      "41250  2473.3201     44.8300     164.2000     155.1100     83.8100   \n",
      "41251  2473.3201     44.7550     164.1350     155.0900     83.7300   \n",
      "41252  2473.6101     44.7300     164.1800     155.0600     83.7300   \n",
      "41253  2473.1001     44.7150     164.2300     155.0700     83.7299   \n",
      "41254  2473.3501     44.7450     164.2100     155.0700     83.7100   \n",
      "41255  2472.5100     44.7400     164.1850     155.0600     83.7100   \n",
      "41256  2471.8899     44.7200     164.1600     155.0600     83.7100   \n",
      "41257  2472.7700     44.7300     164.0600     155.0100     83.7000   \n",
      "41258  2472.8999     44.7600     164.1900     155.1200     83.6300   \n",
      "41259  2472.6399     44.7500     164.2000     155.0900     83.6900   \n",
      "41260  2472.0200     44.7100     164.1400     155.0400     83.6600   \n",
      "41261  2472.2200     44.7200     164.1100     155.0900     83.6700   \n",
      "41262  2471.7700     44.7300     164.1200     155.1600     83.6500   \n",
      "41263  2470.0300     44.7400     164.0100     155.0650     83.6200   \n",
      "41264  2471.4900     44.7100     163.8800     154.9600     83.5800   \n",
      "41265  2471.4900     44.7400     163.9800     155.1600     83.6900   \n",
      "\n",
      "       NASDAQ.ADP  NASDAQ.ADSK  NASDAQ.AKAM  NASDAQ.ALXN  NASDAQ.AMAT  \\\n",
      "0        102.2300      85.2200      59.7600     121.5200      38.9900   \n",
      "1        102.1400      85.6500      59.8400     121.4800      39.0100   \n",
      "2        102.2125      85.5100      59.7950     121.9300      38.9100   \n",
      "3        102.1400      85.4872      59.6200     121.4400      38.8400   \n",
      "4        102.0600      85.7001      59.6200     121.6000      38.9300   \n",
      "5        102.0400      85.9200      59.6100     121.7000      38.9500   \n",
      "6        102.3300      85.9120      59.5400     121.6300      38.9600   \n",
      "7        102.3700      85.8200      59.4100     121.6100      38.9600   \n",
      "8        102.3800      85.8800      59.4300     121.7150      38.9125   \n",
      "9        102.3300      85.8600      59.2600     121.8500      38.8900   \n",
      "10       102.2000      85.8900      59.2700     122.1000      38.9150   \n",
      "11       102.2800      85.9600      59.3600     122.1650      38.9300   \n",
      "12       102.2700      85.9500      59.1650     122.1300      38.9100   \n",
      "13       102.3100      86.0500      59.2000     121.9700      38.9550   \n",
      "14       102.3200      86.1300      59.1450     122.0100      38.9900   \n",
      "15       102.2800      86.1250      59.2000     122.0450      39.0200   \n",
      "16       102.3000      86.3000      59.0901     121.9800      39.0300   \n",
      "17       102.2100      86.3800      59.1800     122.0000      39.0000   \n",
      "18       102.1700      86.5064      59.1600     122.0000      38.9950   \n",
      "19       102.1800      86.6000      59.0399     121.9850      39.0050   \n",
      "20       102.1500      86.6500      59.1350     121.9000      38.9900   \n",
      "21       102.1900      86.6900      59.0750     121.7500      38.9600   \n",
      "22       102.2200      86.8700      59.0400     121.7900      38.9500   \n",
      "23       102.2100      87.0800      59.0500     121.7000      38.9500   \n",
      "24       102.2100      86.8240      58.9800     121.7100      38.9650   \n",
      "25       102.1700      86.6881      58.9599     121.7400      38.9800   \n",
      "26       102.1900      86.6100      58.8950     121.4900      38.9650   \n",
      "27       102.2000      86.4900      58.8000     121.5500      38.9600   \n",
      "28       102.2500      86.4500      58.8000     121.5400      38.9100   \n",
      "29       102.2400      86.3876      58.6801     121.5500      38.9200   \n",
      "...           ...          ...          ...          ...          ...   \n",
      "41236    106.4600     114.4300      47.2000     142.6500      45.2450   \n",
      "41237    106.4600     114.4200      47.1900     142.6200      45.2150   \n",
      "41238    106.5000     114.4900      47.2200     142.6000      45.2450   \n",
      "41239    106.4900     114.5000      47.2100     142.6100      45.2700   \n",
      "41240    106.5100     114.5100      47.2500     142.5800      45.2800   \n",
      "41241    106.5400     114.5100      47.2500     142.6200      45.2800   \n",
      "41242    106.6000     114.5300      47.2650     142.5600      45.3000   \n",
      "41243    106.6300     114.5790      47.2600     142.6200      45.3100   \n",
      "41244    106.6550     114.5500      47.2500     142.4900      45.2900   \n",
      "41245    106.6500     114.5833      47.2500     142.5600      45.2950   \n",
      "41246    106.6600     114.5700      47.2400     142.5400      45.2670   \n",
      "41247    106.6900     114.5900      47.2300     142.5824      45.2700   \n",
      "41248    106.7050     114.6300      47.2400     142.5600      45.2650   \n",
      "41249    106.7800     114.6600      47.2400     142.5800      45.2700   \n",
      "41250    106.7400     114.6400      47.2300     142.7300      45.2600   \n",
      "41251    106.6600     114.5600      47.2100     142.6900      45.2100   \n",
      "41252    106.6200     114.5000      47.2100     142.5700      45.2100   \n",
      "41253    106.6500     114.4900      47.2100     142.5800      45.2150   \n",
      "41254    106.6500     114.5100      47.2000     142.5800      45.1950   \n",
      "41255    106.6500     114.4700      47.1500     142.5300      45.2000   \n",
      "41256    106.6200     114.5300      47.1350     142.6450      45.1900   \n",
      "41257    106.5600     114.5100      47.1150     142.4600      45.1650   \n",
      "41258    106.6200     114.5600      47.1250     142.8750      45.1650   \n",
      "41259    106.6000     114.5150      47.1300     142.8300      45.1800   \n",
      "41260    106.6300     114.4500      47.1450     142.6300      45.1300   \n",
      "41261    106.5650     114.4900      47.1500     142.4250      45.1300   \n",
      "41262    106.5900     114.5200      47.1500     142.4500      45.1300   \n",
      "41263    106.5200     114.4700      47.1500     142.3300      45.1350   \n",
      "41264    106.4000     114.3300      47.1350     142.1700      45.0650   \n",
      "41265    106.4700     114.4600      47.1500     142.4100      45.1200   \n",
      "\n",
      "         ...     NYSE.WYN  NYSE.XEC  NYSE.XEL  NYSE.XL  NYSE.XOM  NYSE.XRX  \\\n",
      "0        ...      84.3700  119.0350    44.400  39.8800   82.0300    7.3600   \n",
      "1        ...      84.3700  119.0350    44.110  39.8800   82.0300    7.3800   \n",
      "2        ...      84.5850  119.2600    44.090  39.9800   82.0200    7.3600   \n",
      "3        ...      84.4600  119.2600    44.250  39.9900   82.0200    7.3500   \n",
      "4        ...      84.4700  119.6100    44.110  39.9600   82.0300    7.3600   \n",
      "5        ...      84.4825  119.5800    44.150  39.9600   82.0300    7.3600   \n",
      "6        ...      84.5000  119.3200    44.200  39.9800   82.0566    7.3650   \n",
      "7        ...      84.5200  119.1100    44.120  39.9500   82.0000    7.3600   \n",
      "8        ...      84.4800  119.3100    44.120  39.9300   81.9500    7.3700   \n",
      "9        ...      84.4000  119.1500    44.170  39.8600   81.9000    7.3650   \n",
      "10       ...      84.4400  119.0900    44.140  39.8800   81.8000    7.3700   \n",
      "11       ...      84.4300  119.0300    44.140  39.8700   81.8000    7.3620   \n",
      "12       ...      84.4200  118.9300    44.170  39.8800   81.7700    7.3700   \n",
      "13       ...      84.3600  119.0100    44.170  39.9300   81.7850    7.3608   \n",
      "14       ...      84.3500  119.0000    44.160  39.9200   81.8400    7.3700   \n",
      "15       ...      84.3000  118.7350    44.160  39.9100   81.7800    7.3500   \n",
      "16       ...      84.3300  118.8700    44.100  39.9400   81.7889    7.3500   \n",
      "17       ...      84.2600  119.2800    44.120  39.9400   81.8500    7.3450   \n",
      "18       ...      84.2500  119.1300    44.120  39.9300   81.8300    7.3250   \n",
      "19       ...      84.2600  119.3000    44.130  39.9393   81.8462    7.3200   \n",
      "20       ...      84.2600  119.2300    44.130  39.8900   81.8000    7.3050   \n",
      "21       ...      84.2500  119.3900    44.150  39.8600   81.8400    7.3000   \n",
      "22       ...      84.2950  119.3800    44.180  39.8600   81.9190    7.3000   \n",
      "23       ...      84.2100  119.3300    44.180  39.8900   81.8650    7.3000   \n",
      "24       ...      84.2900  119.1540    44.190  39.8800   81.8299    7.3150   \n",
      "25       ...      84.3402  119.1100    44.180  39.8900   81.7950    7.3100   \n",
      "26       ...      84.3600  119.1200    44.240  39.9100   81.8250    7.3000   \n",
      "27       ...      84.3300  119.1100    44.230  39.8900   81.7930    7.3000   \n",
      "28       ...      84.3300  118.8650    44.230  39.8800   81.8000    7.3050   \n",
      "29       ...      84.3300  119.1200    44.220  39.8900   81.8500    7.3100   \n",
      "...      ...          ...       ...       ...      ...       ...       ...   \n",
      "41236    ...      99.5850   99.8500    49.530  41.0100   76.4250   32.2900   \n",
      "41237    ...      99.5700   99.9000    49.530  41.0000   76.4650   32.2900   \n",
      "41238    ...      99.5900   99.8900    49.535  41.0050   76.4650   32.2900   \n",
      "41239    ...      99.6100   99.8600    49.540  41.0000   76.4600   32.2867   \n",
      "41240    ...      99.6050   99.8400    49.495  40.9900   76.4250   32.2900   \n",
      "41241    ...      99.5600   99.8301    49.515  40.9850   76.4300   32.2900   \n",
      "41242    ...      99.5850   99.7600    49.515  40.9800   76.4400   32.2950   \n",
      "41243    ...      99.6050   99.7500    49.515  40.9800   76.4150   32.3000   \n",
      "41244    ...      99.6000   99.7600    49.530  40.9600   76.4050   32.3000   \n",
      "41245    ...      99.6200   99.7200    49.535  40.9600   76.3900   32.3000   \n",
      "41246    ...      99.6250   99.7025    49.540  40.9950   76.4050   32.3000   \n",
      "41247    ...      99.6350   99.7300    49.535  41.0050   76.4050   32.2950   \n",
      "41248    ...      99.6600   99.7200    49.535  41.0150   76.4263   32.2700   \n",
      "41249    ...      99.6700   99.6400    49.495  41.0100   76.4100   32.2700   \n",
      "41250    ...      99.6775   99.5350    49.490  40.9900   76.3900   32.2700   \n",
      "41251    ...      99.6800   99.5950    49.480  40.9950   76.3834   32.2750   \n",
      "41252    ...      99.6900   99.5800    49.485  40.9900   76.4150   32.3000   \n",
      "41253    ...      99.6700   99.6200    49.490  41.0000   76.4150   32.3100   \n",
      "41254    ...      99.6600   99.6150    49.485  40.9950   76.3900   32.3050   \n",
      "41255    ...      99.6850   99.5850    49.485  41.0000   76.4050   32.2950   \n",
      "41256    ...      99.6900   99.4950    49.480  40.9900   76.3900   32.2900   \n",
      "41257    ...      99.6800   99.4700    49.470  40.9750   76.3650   32.2950   \n",
      "41258    ...      99.6850   99.4900    49.480  40.9700   76.3750   32.3000   \n",
      "41259    ...      99.6800   99.5000    49.475  40.9700   76.3750   32.2950   \n",
      "41260    ...      99.6600   99.4900    49.495  40.9750   76.4000   32.2950   \n",
      "41261    ...      99.6750   99.5300    49.485  40.9550   76.3600   32.2850   \n",
      "41262    ...      99.7300   99.6300    49.480  40.9600   76.3700   32.2950   \n",
      "41263    ...      99.7350   99.6400    49.495  40.9400   76.3150   32.2900   \n",
      "41264    ...      99.7000   99.6300    49.485  40.9250   76.3000   32.2750   \n",
      "41265    ...      99.6700   99.6400    49.490  40.9400   76.3200   32.2700   \n",
      "\n",
      "       NYSE.XYL  NYSE.YUM  NYSE.ZBH  NYSE.ZTS  \n",
      "0       50.2200   63.8600  122.0000   53.3500  \n",
      "1       50.2200   63.7400  121.7700   53.3500  \n",
      "2       50.1200   63.7500  121.7000   53.3650  \n",
      "3       50.1600   63.8800  121.7000   53.3800  \n",
      "4       50.2000   63.9100  121.6950   53.2400  \n",
      "5       50.2000   63.8400  121.8500   53.2200  \n",
      "6       50.3300   63.8300  122.1000   53.3300  \n",
      "7       50.3000   63.8300  122.2800   53.3700  \n",
      "8       50.2500   63.8500  121.8750   53.3300  \n",
      "9       50.2200   63.8400  121.9300   53.4000  \n",
      "10      50.2450   63.8600  121.8600   53.3800  \n",
      "11      50.2300   63.8800  121.8050   53.3900  \n",
      "12      50.1900   63.8600  121.9400   53.4000  \n",
      "13      50.2400   63.9100  122.0100   53.4250  \n",
      "14      50.2200   63.9400  122.0000   53.4100  \n",
      "15      50.1900   63.9900  122.0100   53.3600  \n",
      "16      50.1850   63.9200  122.0500   53.4000  \n",
      "17      50.1900   63.9000  121.9972   53.4000  \n",
      "18      50.1800   63.8800  121.9600   53.4100  \n",
      "19      50.1600   63.8600  122.0500   53.3900  \n",
      "20      50.1550   63.8750  122.0100   53.3400  \n",
      "21      50.1707   63.9100  122.0200   53.3300  \n",
      "22      50.1700   63.9200  121.9500   53.3000  \n",
      "23      50.1200   63.9800  122.0200   53.3000  \n",
      "24      50.1800   63.9500  122.1500   53.3000  \n",
      "25      50.2000   63.8800  122.1100   53.3150  \n",
      "26      50.1600   63.8600  121.9600   53.3000  \n",
      "27      50.1500   63.8400  121.9500   53.2900  \n",
      "28      50.1400   63.7900  121.7600   53.2900  \n",
      "29      50.1400   63.8000  121.8500   53.2900  \n",
      "...         ...       ...       ...       ...  \n",
      "41236   62.0000   76.6700  114.5600   62.6900  \n",
      "41237   62.0110   76.6800  114.5700   62.6900  \n",
      "41238   62.0200   76.6950  114.5800   62.7000  \n",
      "41239   62.0300   76.6950  114.5800   62.7000  \n",
      "41240   62.0264   76.7100  114.6200   62.7100  \n",
      "41241   62.0200   76.7200  114.6100   62.7050  \n",
      "41242   62.0400   76.7100  114.6001   62.7000  \n",
      "41243   62.0700   76.7200  114.6200   62.7050  \n",
      "41244   62.1100   76.7300  114.6300   62.7050  \n",
      "41245   62.1050   76.7350  114.6500   62.7050  \n",
      "41246   62.1100   76.7200  114.6600   62.7300  \n",
      "41247   62.0950   76.7100  114.6700   62.7350  \n",
      "41248   62.1000   76.7150  114.6600   62.7400  \n",
      "41249   62.1000   76.7400  114.6300   62.7350  \n",
      "41250   62.1300   76.7550  114.5700   62.7500  \n",
      "41251   62.1050   76.7659  114.4100   62.7500  \n",
      "41252   62.0950   76.7700  114.4160   62.7600  \n",
      "41253   62.0900   76.8250  114.4000   62.7650  \n",
      "41254   62.0750   76.7950  114.3800   62.7200  \n",
      "41255   62.1200   76.8000  114.3900   62.7200  \n",
      "41256   62.0600   76.8150  114.3600   62.7300  \n",
      "41257   62.1000   76.8100  114.3100   62.7225  \n",
      "41258   62.1050   76.8799  114.3500   62.7400  \n",
      "41259   62.1050   76.9100  114.3200   62.7400  \n",
      "41260   62.0950   76.8850  114.3000   62.7300  \n",
      "41261   62.1100   76.8800  114.3100   62.7250  \n",
      "41262   62.1000   76.9000  114.3300   62.7100  \n",
      "41263   62.0900   76.8800  114.3100   62.6850  \n",
      "41264   62.0750   76.8300  114.2300   62.6301  \n",
      "41265   62.0700   76.8100  114.2800   62.6800  \n",
      "\n",
      "[41266 rows x 501 columns]\n"
     ]
    }
   ],
   "source": [
    "stocks = pd.read_csv(r'/Users/avbais/Documents/data.csv')\n",
    "stocks = stocks.drop(['DATE'], 1)\n",
    "print(stocks)"
   ]
  },
  {
   "cell_type": "markdown",
   "metadata": {},
   "source": [
    "### Setting Variables and Parameters "
   ]
  },
  {
   "cell_type": "code",
   "execution_count": 3,
   "metadata": {},
   "outputs": [],
   "source": [
    "total_stocks = 500 #Number of Stocks\n",
    "nb_epoch = 1 #No of trainings\n",
    "batch_size = 256 #Setting batch size for data"
   ]
  },
  {
   "cell_type": "markdown",
   "metadata": {},
   "source": [
    "### Assigning placeholders x and y "
   ]
  },
  {
   "cell_type": "code",
   "execution_count": 4,
   "metadata": {},
   "outputs": [],
   "source": [
    "(x,y) = (tf.placeholder(dtype=tf.float32, shape=[None, total_stocks]),tf.placeholder(dtype=tf.float32, shape=[None]))"
   ]
  },
  {
   "cell_type": "markdown",
   "metadata": {},
   "source": [
    "### Initializing weights and bias "
   ]
  },
  {
   "cell_type": "code",
   "execution_count": 5,
   "metadata": {},
   "outputs": [],
   "source": [
    "random_starting_weights = tf.variance_scaling_initializer()\n",
    "random_starting_bias = tf.zeros_initializer()"
   ]
  },
  {
   "cell_type": "markdown",
   "metadata": {},
   "source": [
    "### Assigning layers"
   ]
  },
  {
   "cell_type": "code",
   "execution_count": 6,
   "metadata": {},
   "outputs": [],
   "source": [
    "#Receptor Layer\n",
    "layer1_size = 1024\n",
    "weight1 = tf.Variable(random_starting_weights([total_stocks, layer1_size]))\n",
    "bias1 = tf.Variable(random_starting_bias([layer1_size]))\n",
    "hidden1 = tf.nn.relu(tf.add(tf.matmul(x, weight1), bias1))\n",
    "\n",
    "#First Layer\n",
    "layer2_size = 512\n",
    "weight2 = tf.Variable(random_starting_weights([layer1_size, layer2_size]))\n",
    "bias2 = tf.Variable(random_starting_bias([layer2_size]))\n",
    "hidden2 = tf.nn.relu(tf.add(tf.matmul(hidden1, weight2), bias2))\n",
    "\n",
    "#Second layer\n",
    "layer3_size =256\n",
    "weight3 = tf.Variable(random_starting_weights([layer2_size, layer3_size]))\n",
    "bias3 = tf.Variable(random_starting_bias([layer3_size]))\n",
    "hidden3 = tf.nn.relu(tf.add(tf.matmul(hidden2, weight3), bias3))\n",
    "\n",
    "#Third layer\n",
    "layer4_size = 128\n",
    "weight4 = tf.Variable(random_starting_weights([layer3_size, layer4_size]))\n",
    "bias4 = tf.Variable(random_starting_bias([layer4_size]))\n",
    "hidden4 = tf.nn.relu(tf.add(tf.matmul(hidden3, weight4), bias4))\n",
    "\n",
    "#Output layer\n",
    "output_size = 1\n",
    "output_weight = tf.Variable(random_starting_weights([layer4_size, output_size]))\n",
    "output_bias = tf.Variable(random_starting_bias([output_size]))\n",
    "output = tf.transpose(tf.add(tf.matmul(hidden4, output_weight), output_bias))"
   ]
  },
  {
   "cell_type": "markdown",
   "metadata": {},
   "source": [
    "### Calculating Error and Minimizing Error "
   ]
  },
  {
   "cell_type": "code",
   "execution_count": 7,
   "metadata": {},
   "outputs": [],
   "source": [
    "error = tf.reduce_mean(tf.squared_difference(output, y)) #Calculating error\n",
    "optimizer = tf.train.AdamOptimizer().minimize(error) #Algorithm to minimize error during backpropogation"
   ]
  },
  {
   "cell_type": "markdown",
   "metadata": {},
   "source": [
    "###  Initializing and running the session"
   ]
  },
  {
   "cell_type": "code",
   "execution_count": 8,
   "metadata": {},
   "outputs": [],
   "source": [
    "nn = tf.Session()\n",
    "nn.run(tf.global_variables_initializer())"
   ]
  },
  {
   "cell_type": "code",
   "execution_count": 9,
   "metadata": {},
   "outputs": [],
   "source": [
    "stocks = stocks.values\n",
    "(r,c) = stocks.shape"
   ]
  },
  {
   "cell_type": "markdown",
   "metadata": {},
   "source": [
    "### Selecting Training and Testing Data "
   ]
  },
  {
   "cell_type": "code",
   "execution_count": 10,
   "metadata": {},
   "outputs": [],
   "source": [
    "tr_st = 0 #Starting from zero\n",
    "tr_fin = int(np.floor(0.8*r)) #Selecting 80% of data for training\n",
    "tst_st = tr_fin #Starting testing data\n",
    "tst_fin = r #Testing data till end\n",
    "(trainstock, teststock) = (stocks[np.arange(tr_st, tr_fin), :],stocks[np.arange(tst_st, tst_fin), :]) #Assigning train and test data"
   ]
  },
  {
   "cell_type": "code",
   "execution_count": 11,
   "metadata": {},
   "outputs": [],
   "source": [
    "#Normalizing test and test data\n",
    "normalize.fit(trainstock)\n",
    "(trainstock,teststock) = (normalize.transform(trainstock),normalize.transform(teststock))"
   ]
  },
  {
   "cell_type": "code",
   "execution_count": 12,
   "metadata": {},
   "outputs": [],
   "source": [
    "#Assigning train and test data\n",
    "(x_train,y_train ) = (trainstock[:, 1:],trainstock[:, 0])\n",
    "(x_test,y_test ) = (teststock[:, 1:],teststock[:, 0])"
   ]
  },
  {
   "cell_type": "code",
   "execution_count": 13,
   "metadata": {},
   "outputs": [],
   "source": [
    "#Seleting all transactions in 1 epoche for batch size\n",
    "for i in range(nb_epoch):\n",
    "    shuffle_indices = np.random.permutation(np.arange(len(y_train)))\n",
    "    x_train = x_train[shuffle_indices]\n",
    "    y_train = y_train[shuffle_indices]\n",
    "    for j in range(0, len(y_train) // batch_size):\n",
    "        start = j * batch_size\n",
    "        xb = x_train[start:start + batch_size]\n",
    "        yb = y_train[start:start + batch_size]\n",
    "        nn.run(optimizer, feed_dict={x: xb, y: yb})"
   ]
  },
  {
   "cell_type": "markdown",
   "metadata": {},
   "source": [
    "### Calculating Error and Accuracy "
   ]
  },
  {
   "cell_type": "code",
   "execution_count": 14,
   "metadata": {},
   "outputs": [
    {
     "name": "stdout",
     "output_type": "stream",
     "text": [
      "Final error is: 0.00951563\n",
      "Accuracy is: 99.0484373644%\n"
     ]
    }
   ],
   "source": [
    "final_error = nn.run(error, feed_dict={x: x_test, y: y_test})\n",
    "print(\"Final error is: \" + str(final_error))\n",
    "print(\"Accuracy is: \" + str((1 - final_error)*100) + \"%\")"
   ]
  },
  {
   "cell_type": "markdown",
   "metadata": {},
   "source": [
    "### Plotting Accuracy "
   ]
  },
  {
   "cell_type": "code",
   "execution_count": 15,
   "metadata": {},
   "outputs": [
    {
     "name": "stdout",
     "output_type": "stream",
     "text": [
      "\n",
      "All values shown in a graph\n",
      "\n",
      "Comparision of predicted and actual test values\n"
     ]
    },
    {
     "data": {
      "image/png": "[encoded data removed]",
      "text/plain": [
       "<Figure size 432x288 with 1 Axes>"
      ]
     },
     "metadata": {},
     "output_type": "display_data"
    },
    {
     "data": {
      "image/png": "[encoded data removed]",
      "text/plain": [
       "<Figure size 432x288 with 1 Axes>"
      ]
     },
     "metadata": {},
     "output_type": "display_data"
    }
   ],
   "source": [
    "print('')\n",
    "print('All values shown in a graph')\n",
    "plt.plot(stocks[:,0])\n",
    "\n",
    "print('')\n",
    "print('Comparision of predicted and actual test values')\n",
    "plt.ion()\n",
    "fig = plt.figure()\n",
    "ax1 = fig.add_subplot(111)\n",
    "line1, = ax1.plot(y_test)\n",
    "line2, = ax1.plot(y_test*0.5)\n",
    "plt.show()"
   ]
  },
  {
   "cell_type": "markdown",
   "metadata": {},
   "source": [
    "First plot represents the stock price over all line items for that particular stock."
   ]
  },
  {
   "cell_type": "markdown",
   "metadata": {},
   "source": [
    "Second plot represents the test price and predicted price for a sample stock."
   ]
  },
  {
   "cell_type": "markdown",
   "metadata": {},
   "source": [
    "### References"
   ]
  },
  {
   "cell_type": "markdown",
   "metadata": {},
   "source": [
    "[1] Volodymyr Turchenko, Patrizia Beraldi, Francesco De Simone, Lucio Grandinetti “Short-term stock price prediction using MLP” September 2011. \n",
    "\n",
    "[2] A. Victor Devadoss, T. Anthony Alphonnse Ligori “Forecasting of Stock Prices Using Multilayer Perceptron” December 2013.\n",
    "\n",
    "[3] Mahdi Pakdaman Naeini, Hamidreza Taremian, Homa Baradaran Hashemi “Stock Market Value Prediction Using Neural Networks”, 2010 \n",
    "\n",
    "[4] Ayoele A. Adebiyi, Aderemi O. Adewumi, Charles K. Ayo “Stock Price Prediction Using ARIMA Model” 2014\n",
    "\n",
    "[5] Lin H. “Stock Market Prediction Investigation” 2013\n",
    "\n",
    "[6] Arik S., Eryilmaz B. 2013. Stock Prediction and Portfolio Optimization\n",
    "\n",
    "[7] https://en.wikipedia.org/wiki/Multilayer_perc eptron\n",
    "\n",
    "[8] Jason Brownlee “How to create ARIMA model for time series forecasting in python” January 2017"
   ]
  }
 ],
 "metadata": {
  "kernelspec": {
   "display_name": "Python 3",
   "language": "python",
   "name": "python3"
  },
  "language_info": {
   "codemirror_mode": {
    "name": "ipython",
    "version": 3
   },
   "file_extension": ".py",
   "mimetype": "text/x-python",
   "name": "python",
   "nbconvert_exporter": "python",
   "pygments_lexer": "ipython3",
   "version": "3.6.4"
  }
 },
 "nbformat": 4,
 "nbformat_minor": 2
}
